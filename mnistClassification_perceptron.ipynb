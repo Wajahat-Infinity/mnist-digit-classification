{
  "nbformat": 4,
  "nbformat_minor": 0,
  "metadata": {
    "colab": {
      "private_outputs": true,
      "provenance": [],
      "gpuType": "T4"
    },
    "kernelspec": {
      "name": "python3",
      "display_name": "Python 3"
    },
    "language_info": {
      "name": "python"
    },
    "accelerator": "GPU"
  },
  "cells": [
    {
      "cell_type": "markdown",
      "source": [
        "import libraries"
      ],
      "metadata": {
        "id": "n331u-yYMywZ"
      }
    },
    {
      "cell_type": "code",
      "execution_count": null,
      "metadata": {
        "id": "hJtHDr2mMcYc"
      },
      "outputs": [],
      "source": [
        "import numpy as np\n",
        "import tensorflow as tf\n",
        "from tensorflow import keras"
      ]
    },
    {
      "cell_type": "markdown",
      "source": [
        "Network and training parameters"
      ],
      "metadata": {
        "id": "u3BxdlADM3M9"
      }
    },
    {
      "cell_type": "code",
      "source": [
        "EPOCHS = 200\n",
        "BATCH_SIZE = 128\n",
        "VERBOSE = 1\n",
        "NB_CLASSES = 10\n",
        "N_HIDDEN = 128\n",
        "VALIDATION_SPLIT = 0.2"
      ],
      "metadata": {
        "id": "SLGm7I2WMyID"
      },
      "execution_count": null,
      "outputs": []
    },
    {
      "cell_type": "code",
      "source": [
        "mnist = keras.datasets.mnist.load_data(path=\"mnist.npz\")"
      ],
      "metadata": {
        "id": "WVFgwTXPNUSS"
      },
      "execution_count": null,
      "outputs": []
    },
    {
      "cell_type": "code",
      "source": [
        "(X_train, Y_train), (X_test, Y_test) = mnist"
      ],
      "metadata": {
        "id": "i9kgX5dxNeRZ"
      },
      "execution_count": null,
      "outputs": []
    },
    {
      "cell_type": "code",
      "source": [
        "RESHAPED = 784"
      ],
      "metadata": {
        "id": "RxxUo_D0NlnV"
      },
      "execution_count": null,
      "outputs": []
    },
    {
      "cell_type": "code",
      "source": [
        "X_train = X_train.reshape(60000, RESHAPED)\n",
        "X_test = X_test.reshape(10000, RESHAPED)\n",
        "X_train = X_train.astype('float32')\n",
        "X_test = X_test.astype('float32')"
      ],
      "metadata": {
        "id": "dKiVqaEKNpFa"
      },
      "execution_count": null,
      "outputs": []
    },
    {
      "cell_type": "markdown",
      "source": [
        "Normalize Input"
      ],
      "metadata": {
        "id": "cgd0A0hmN6Ve"
      }
    },
    {
      "cell_type": "code",
      "source": [
        "X_train /= 255\n",
        "X_test /= 255"
      ],
      "metadata": {
        "id": "Q3tyRwfJN5PJ"
      },
      "execution_count": null,
      "outputs": []
    },
    {
      "cell_type": "code",
      "source": [
        "print(X_train.shape[0], 'train samples')\n",
        "print(X_test.shape[0], 'test samples')"
      ],
      "metadata": {
        "id": "pOHkDpRcOBIL"
      },
      "execution_count": null,
      "outputs": []
    },
    {
      "cell_type": "markdown",
      "source": [
        "onehot representation of the labels"
      ],
      "metadata": {
        "id": "-DDv4xReOGY0"
      }
    },
    {
      "cell_type": "code",
      "source": [
        "Y_train = tf.keras.utils.to_categorical(Y_train, NB_CLASSES)\n",
        "Y_test = tf.keras.utils.to_categorical(Y_test, NB_CLASSES)"
      ],
      "metadata": {
        "id": "x1yTphzJOC8U"
      },
      "execution_count": null,
      "outputs": []
    },
    {
      "cell_type": "markdown",
      "source": [
        "Build the model"
      ],
      "metadata": {
        "id": "55gQQ32HOR9T"
      }
    },
    {
      "cell_type": "code",
      "source": [
        "model = tf.keras.models.Sequential()\n",
        "model.add(keras.layers.Dense(NB_CLASSES, input_shape=(RESHAPED,), name='dense_layer', activation='softmax'))"
      ],
      "metadata": {
        "id": "XR1zxJBrOQRQ"
      },
      "execution_count": null,
      "outputs": []
    },
    {
      "cell_type": "markdown",
      "source": [
        "compiling the model"
      ],
      "metadata": {
        "id": "1fO0XtS2Oss7"
      }
    },
    {
      "cell_type": "code",
      "source": [
        "model.compile(optimizer='SGD', loss='categorical_crossentropy', metrics=['accuracy'])"
      ],
      "metadata": {
        "id": "EfddXlymOnYS"
      },
      "execution_count": null,
      "outputs": []
    },
    {
      "cell_type": "markdown",
      "source": [
        "Trainning the mmodel"
      ],
      "metadata": {
        "id": "WPSwY1lGOzot"
      }
    },
    {
      "cell_type": "code",
      "source": [
        "model.fit(X_train, Y_train, batch_size=BATCH_SIZE, epochs=EPOCHS, verbose=VERBOSE, validation_split=VALIDATION_SPLIT)"
      ],
      "metadata": {
        "id": "0RTxG5cXOyWY"
      },
      "execution_count": null,
      "outputs": []
    },
    {
      "cell_type": "markdown",
      "source": [
        "evalute the model"
      ],
      "metadata": {
        "id": "F8k1hOFvPGbI"
      }
    },
    {
      "cell_type": "code",
      "source": [
        "test_loss, test_acc = model.evaluate(X_test, Y_test)\n",
        "print('Test accuracy:', test_acc)"
      ],
      "metadata": {
        "id": "l-JBj-XMO9Xs"
      },
      "execution_count": null,
      "outputs": []
    },
    {
      "cell_type": "markdown",
      "source": [
        "save model"
      ],
      "metadata": {
        "id": "OaPOlqqKP3nQ"
      }
    },
    {
      "cell_type": "code",
      "source": [
        "model.save('mnist_dense_model.h5')"
      ],
      "metadata": {
        "id": "2Ma-6XnBP2Ak"
      },
      "execution_count": null,
      "outputs": []
    },
    {
      "cell_type": "code",
      "source": [
        "# Download the model file\n",
        "from google.colab import files\n",
        "files.download('mnist_dense_model.h5')"
      ],
      "metadata": {
        "id": "Hu0CQL2yP9rT"
      },
      "execution_count": null,
      "outputs": []
    },
    {
      "cell_type": "code",
      "source": [],
      "metadata": {
        "id": "5MXa7PgMQAIU"
      },
      "execution_count": null,
      "outputs": []
    }
  ]
}